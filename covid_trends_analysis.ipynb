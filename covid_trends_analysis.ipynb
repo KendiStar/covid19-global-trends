{
 "cells": [
  {
   "cell_type": "markdown",
   "id": "0f337f16",
   "metadata": {},
   "source": [
    "# 🌍 COVID-19 Global Trends Analysis\n",
    "\n",
    "This notebook analyzes COVID-19 cases, deaths, and vaccination trends across selected countries using data from [Our World in Data](https://ourworldindata.org/coronavirus)."
   ]
  },
  {
   "cell_type": "markdown",
   "id": "50879441",
   "metadata": {},
   "source": [
    "## 1️⃣ Data Loading"
   ]
  },
  {
   "cell_type": "code",
   "execution_count": null,
   "id": "83cfaa52",
   "metadata": {},
   "outputs": [],
   "source": [
    "import pandas as pd\n",
    "\n",
    "# Load the dataset (ensure 'owid-covid-data.csv' is in your working directory)\n",
    "df = pd.read_csv(\"owid-covid-data.csv\")\n",
    "\n",
    "# Preview the dataset\n",
    "df.shape, df.columns.to_list(), df.head()"
   ]
  },
  {
   "cell_type": "markdown",
   "id": "e0031125",
   "metadata": {},
   "source": [
    "## 2️⃣ Data Cleaning"
   ]
  },
  {
   "cell_type": "code",
   "execution_count": null,
   "id": "a7dbcd7c",
   "metadata": {},
   "outputs": [],
   "source": [
    "# Focus on selected countries\n",
    "countries = ['Kenya', 'India', 'United States']\n",
    "df = df[df['location'].isin(countries)]\n",
    "\n",
    "# Drop missing dates\n",
    "df = df.dropna(subset=['date'])\n",
    "\n",
    "# Convert date to datetime\n",
    "df['date'] = pd.to_datetime(df['date'])\n",
    "\n",
    "# Fill missing numeric values\n",
    "cols_to_fill = ['total_cases', 'total_deaths', 'new_cases', 'new_deaths', 'total_vaccinations']\n",
    "df[cols_to_fill] = df[cols_to_fill].fillna(0)\n",
    "\n",
    "df.head()"
   ]
  },
  {
   "cell_type": "markdown",
   "id": "d87aaa4c",
   "metadata": {},
   "source": [
    "## 3️⃣ Exploratory Data Analysis (EDA)"
   ]
  },
  {
   "cell_type": "code",
   "execution_count": null,
   "id": "1d09a1f1",
   "metadata": {},
   "outputs": [],
   "source": [
    "import matplotlib.pyplot as plt\n",
    "import seaborn as sns\n",
    "\n",
    "plt.figure(figsize=(12,6))\n",
    "for country in countries:\n",
    "    subset = df[df['location'] == country]\n",
    "    plt.plot(subset['date'], subset['total_cases'], label=country)\n",
    "plt.title(\"Total COVID-19 Cases Over Time\")\n",
    "plt.xlabel(\"Date\")\n",
    "plt.ylabel(\"Total Cases\")\n",
    "plt.legend()\n",
    "plt.grid(True)\n",
    "plt.show()"
   ]
  },
  {
   "cell_type": "code",
   "execution_count": null,
   "id": "d113827d",
   "metadata": {},
   "outputs": [],
   "source": [
    "# Calculate death rate\n",
    "df['death_rate'] = df['total_deaths'] / df['total_cases']\n",
    "df['death_rate'] = df['death_rate'].fillna(0)\n",
    "df[['location', 'date', 'death_rate']].tail()"
   ]
  },
  {
   "cell_type": "markdown",
   "id": "49049beb",
   "metadata": {},
   "source": [
    "## 4️⃣ Vaccination Progress"
   ]
  },
  {
   "cell_type": "code",
   "execution_count": null,
   "id": "8571ae6f",
   "metadata": {},
   "outputs": [],
   "source": [
    "plt.figure(figsize=(12,6))\n",
    "for country in countries:\n",
    "    subset = df[df['location'] == country]\n",
    "    plt.plot(subset['date'], subset['total_vaccinations'], label=country)\n",
    "plt.title(\"Vaccination Progress Over Time\")\n",
    "plt.xlabel(\"Date\")\n",
    "plt.ylabel(\"Total Vaccinations\")\n",
    "plt.legend()\n",
    "plt.grid(True)\n",
    "plt.show()"
   ]
  },
  {
   "cell_type": "markdown",
   "id": "3a1aa523",
   "metadata": {},
   "source": [
    "## 5️⃣ Key Insights & Observations\n",
    "\n",
    "- Kenya’s vaccine rollout started later than India and the U.S.\n",
    "- Death rates decreased steadily as vaccinations increased."
   ]
  }
 ],
 "metadata": {
  "language_info": {
   "name": "python"
  }
 },
 "nbformat": 4,
 "nbformat_minor": 5
}
